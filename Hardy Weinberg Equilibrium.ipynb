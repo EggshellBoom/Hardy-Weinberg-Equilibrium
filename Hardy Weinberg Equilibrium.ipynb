{
 "cells": [
  {
   "cell_type": "markdown",
   "metadata": {},
   "source": [
    "# Hardy–Weinberg equilibrium"
   ]
  },
  {
   "cell_type": "markdown",
   "metadata": {},
   "source": [
    "In population genetics, the **Hardy–Weinberg principle**, also known as the **Hardy–Weinberg equilibrium**, model, theorem, or law, states that **allele** and **genotype frequencies** in a population will remain constant from generation to generation in the absence of other evolutionary influences."
   ]
  },
  {
   "cell_type": "markdown",
   "metadata": {},
   "source": [
    "# Applications"
   ]
  },
  {
   "cell_type": "markdown",
   "metadata": {},
   "source": [
    "**Hardy-Weinberg equilibrium** is a powerful tool because with a simple equation, it could be apllied to multiple fileds in genetics and biology. Some of the important influences are listed below:\n",
    "1. genetic drift \n",
    "2. mate choice\n",
    "3. assortative mating\n",
    "4. natural selection\n",
    "5. sexual selection\n",
    "6. mutation\n",
    "7. gene flow\n",
    "8. meiotic drive\n",
    "9. genetic hitchhiking\n",
    "10. population bottleneck"
   ]
  },
  {
   "cell_type": "markdown",
   "metadata": {},
   "source": [
    "# Analyzing the Formula"
   ]
  },
  {
   "cell_type": "markdown",
   "metadata": {},
   "source": [
    "![The equation](https://i.ytimg.com/vi/oG7ob-MtO8c/maxresdefault.jpg)\n",
    "![The equation2](https://d20khd7ddkh5ls.cloudfront.net/hardy-weinberg_allele_equation.png)"
   ]
  },
  {
   "cell_type": "markdown",
   "metadata": {},
   "source": [
    "as you can see from the above illustration, the equation consists of three important parts:\n",
    "1. $p^2$ = dominant homozygous frequency (AA)\n",
    "2. $2pq$ = heterozygous frequency (Aa)\n",
    "3. $q^2$ = recessive homozygous frequency (aa)"
   ]
  },
  {
   "cell_type": "markdown",
   "metadata": {},
   "source": [
    "# Example!!!\n",
    "Here we present onw example that uses the formula to tackle questions. We will walkthrough each step of solution and use the power of python to handle all of the math!"
   ]
  },
  {
   "cell_type": "markdown",
   "metadata": {},
   "source": [
    "\n",
    "#### A population of cats can be either black or white; the black allele (B) has complete dominance over the white allele (b). Given a population of 1,000 cats, 840 black and 160 white, determine the allele frequency, the frequency of individuals per genotype, and number of individuals per genotype.\n",
    "By looking at the question, we quickly realize that this is stritly asking us to solve all of the variables in the formula:\n",
    "1. $p$\n",
    "2. $q$\n",
    "3. $p^2$\n",
    "4. $q^2$\n",
    "5. $2pq$"
   ]
  },
  {
   "cell_type": "markdown",
   "metadata": {},
   "source": [
    "**Step 1**: Find the frequency of white cats, the homozygous recessive genotype, as they have only one genotype, bb. Black cats can have either the genotype Bb or the genotype BB, and therefore, the frequency cannot be directly determined."
   ]
  },
  {
   "cell_type": "code",
   "execution_count": 1,
   "metadata": {},
   "outputs": [
    {
     "data": {
      "text/plain": [
       "0.16"
      ]
     },
     "execution_count": 1,
     "metadata": {},
     "output_type": "execute_result"
    }
   ],
   "source": [
    "num_of_white_cats = 160\n",
    "num_of_population = 1000\n",
    "freq_of_white_cats = num_of_white_cats / num_of_population\n",
    "freq_of_white_cats"
   ]
  },
  {
   "cell_type": "markdown",
   "metadata": {},
   "source": [
    "frequency of the white cats is 0.16, thus $q^2$ is 0.16"
   ]
  },
  {
   "cell_type": "code",
   "execution_count": 2,
   "metadata": {},
   "outputs": [
    {
     "data": {
      "text/plain": [
       "0.16"
      ]
     },
     "execution_count": 2,
     "metadata": {},
     "output_type": "execute_result"
    }
   ],
   "source": [
    "q2 = freq_of_white_cats\n",
    "q2"
   ]
  },
  {
   "cell_type": "markdown",
   "metadata": {},
   "source": [
    "**Step 2**: Find $q$ by taking the squre root of $q^2$"
   ]
  },
  {
   "cell_type": "code",
   "execution_count": 3,
   "metadata": {},
   "outputs": [
    {
     "data": {
      "text/plain": [
       "0.4"
      ]
     },
     "execution_count": 3,
     "metadata": {},
     "output_type": "execute_result"
    }
   ],
   "source": [
    "import math\n",
    "q = math.sqrt(q2) \n",
    "q"
   ]
  },
  {
   "cell_type": "markdown",
   "metadata": {},
   "source": [
    "**Step 3**: Find $p$ by using $p+q = 1$"
   ]
  },
  {
   "cell_type": "code",
   "execution_count": 4,
   "metadata": {},
   "outputs": [
    {
     "data": {
      "text/plain": [
       "0.6"
      ]
     },
     "execution_count": 4,
     "metadata": {},
     "output_type": "execute_result"
    }
   ],
   "source": [
    "p = 1 - q\n",
    "p"
   ]
  },
  {
   "cell_type": "markdown",
   "metadata": {},
   "source": [
    "**Step 4**: Find $p^2$ "
   ]
  },
  {
   "cell_type": "code",
   "execution_count": 5,
   "metadata": {},
   "outputs": [
    {
     "data": {
      "text/plain": [
       "0.36"
      ]
     },
     "execution_count": 5,
     "metadata": {},
     "output_type": "execute_result"
    }
   ],
   "source": [
    "p2 = math.pow(p,2)\n",
    "p2"
   ]
  },
  {
   "cell_type": "markdown",
   "metadata": {},
   "source": [
    "**Step 4**: Find $2pq$ "
   ]
  },
  {
   "cell_type": "code",
   "execution_count": 6,
   "metadata": {},
   "outputs": [
    {
     "data": {
      "text/plain": [
       "0.48"
      ]
     },
     "execution_count": 6,
     "metadata": {},
     "output_type": "execute_result"
    }
   ],
   "source": [
    "twopq = 2*p*q\n",
    "twopq"
   ]
  },
  {
   "cell_type": "markdown",
   "metadata": {},
   "source": [
    "Now we have found all of the variables, let's check them out!"
   ]
  },
  {
   "cell_type": "code",
   "execution_count": 7,
   "metadata": {},
   "outputs": [
    {
     "data": {
      "text/plain": [
       "{'The frequency of the dominant alleles': 0.6,\n",
       " 'The frequency of the recessive alleles': 0.4,\n",
       " 'The frequency of individuals with the dominant genotype': 0.36,\n",
       " 'The frequency of individuals with the heterozygous genotype': 0.48,\n",
       " 'The frequency of individuals with the recessive genotype': 0.16}"
      ]
     },
     "execution_count": 7,
     "metadata": {},
     "output_type": "execute_result"
    }
   ],
   "source": [
    "result = {\n",
    "    \"The frequency of the dominant alleles\":p,\n",
    "    \"The frequency of the recessive alleles\":q,\n",
    "    \"The frequency of individuals with the dominant genotype\":p2,\n",
    "    \"The frequency of individuals with the heterozygous genotype\":twopq,\n",
    "    \"The frequency of individuals with the recessive genotype\":q2\n",
    "}\n",
    "result"
   ]
  },
  {
   "cell_type": "markdown",
   "metadata": {},
   "source": [
    "**Step 5**: multiply with the population number to solve the question!"
   ]
  },
  {
   "cell_type": "code",
   "execution_count": 8,
   "metadata": {},
   "outputs": [
    {
     "data": {
      "text/plain": [
       "{'black cats, Bb genotype': 480,\n",
       " 'black cats, BB genotype': 360,\n",
       " 'white cats, bb genotype': 160}"
      ]
     },
     "execution_count": 8,
     "metadata": {},
     "output_type": "execute_result"
    }
   ],
   "source": [
    "num_of_black_cats_BB = p2 * num_of_population\n",
    "num_of_black_cats_Bb = twopq * num_of_population\n",
    "num_of_white_cats_bb = q2 * num_of_population\n",
    "result = {\n",
    "    \"black cats, Bb genotype\": int(num_of_black_cats_Bb),\n",
    "    \"black cats, BB genotype\": int(num_of_black_cats_BB),\n",
    "    \"white cats, bb genotype\": int(num_of_white_cats_bb)\n",
    "}\n",
    "result"
   ]
  },
  {
   "cell_type": "code",
   "execution_count": null,
   "metadata": {},
   "outputs": [],
   "source": []
  },
  {
   "cell_type": "code",
   "execution_count": null,
   "metadata": {},
   "outputs": [],
   "source": []
  },
  {
   "cell_type": "code",
   "execution_count": null,
   "metadata": {},
   "outputs": [],
   "source": []
  }
 ],
 "metadata": {
  "kernelspec": {
   "display_name": "Python 3",
   "language": "python",
   "name": "python3"
  },
  "language_info": {
   "codemirror_mode": {
    "name": "ipython",
    "version": 3
   },
   "file_extension": ".py",
   "mimetype": "text/x-python",
   "name": "python",
   "nbconvert_exporter": "python",
   "pygments_lexer": "ipython3",
   "version": "3.8.5"
  }
 },
 "nbformat": 4,
 "nbformat_minor": 4
}
